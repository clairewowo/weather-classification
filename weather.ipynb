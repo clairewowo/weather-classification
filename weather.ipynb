{
 "cells": [
  {
   "cell_type": "code",
   "execution_count": 3,
   "metadata": {},
   "outputs": [],
   "source": [
    "import tensorflow as tf\n",
    "from tensorflow.keras.models import Sequential\n",
    "from tensorflow.keras.layers import Conv2D, MaxPooling2D, Flatten, Dense, Dropout\n",
    "from tensorflow.keras.preprocessing.image import ImageDataGenerator"
   ]
  },
  {
   "cell_type": "code",
   "execution_count": 76,
   "metadata": {},
   "outputs": [
    {
     "name": "stdout",
     "output_type": "stream",
     "text": [
      "Found 855 images belonging to 4 classes.\n",
      "Found 213 images belonging to 4 classes.\n"
     ]
    }
   ],
   "source": [
    "generator = ImageDataGenerator(\n",
    "    rescale = 1/64, \n",
    "    rotation_range = 30, \n",
    "    width_shift_range = 10, \n",
    "    height_shift_range = 10, \n",
    "    shear_range = 0.2, \n",
    "    zoom_range = 0.2, \n",
    "    horizontal_flip=True,\n",
    "    validation_split = 0.2\n",
    ")\n",
    "\n",
    "train_gen = generator.flow_from_directory(\n",
    "    'data', \n",
    "    target_size=(64, 64),  # Resize images\n",
    "    batch_size=32,\n",
    "    class_mode='categorical',\n",
    "    subset='training'\n",
    ")\n",
    "\n",
    "val_gen = generator.flow_from_directory(\n",
    "    'data',\n",
    "    target_size=(64, 64),\n",
    "    batch_size=32,\n",
    "    class_mode='categorical',\n",
    "    subset='validation'\n",
    ")"
   ]
  },
  {
   "cell_type": "code",
   "execution_count": 77,
   "metadata": {},
   "outputs": [],
   "source": [
    "model = Sequential([\n",
    "    Conv2D(32, (3, 3), activation='relu', input_shape=(64, 64, 3)),\n",
    "    MaxPooling2D(pool_size=(2, 2)),\n",
    "    #Conv2D(64, (3, 3), activation='relu'),\n",
    "    Conv2D(64, (5, 5), activation='relu'), \n",
    "    MaxPooling2D(pool_size=(2, 2)),\n",
    "    Flatten(),\n",
    "    Dense(128, activation='relu'),\n",
    "    Dropout(0.4),\n",
    "    Dense(64, activation='relu'),\n",
    "    Dense(4, activation='softmax')  # Number of classes in your dataset\n",
    "])\n",
    "\n",
    "model.compile(\n",
    "    optimizer = 'Adam', \n",
    "    loss = 'categorical_crossentropy',\n",
    "    metrics=['accuracy']\n",
    ")"
   ]
  },
  {
   "cell_type": "code",
   "execution_count": 78,
   "metadata": {},
   "outputs": [
    {
     "name": "stderr",
     "output_type": "stream",
     "text": [
      "/opt/anaconda3/lib/python3.12/site-packages/keras/src/trainers/data_adapters/py_dataset_adapter.py:121: UserWarning: Your `PyDataset` class should call `super().__init__(**kwargs)` in its constructor. `**kwargs` can include `workers`, `use_multiprocessing`, `max_queue_size`. Do not pass these arguments to `fit()`, as they will be ignored.\n",
      "  self._warn_if_super_not_called()\n"
     ]
    },
    {
     "name": "stdout",
     "output_type": "stream",
     "text": [
      "Epoch 1/15\n",
      "\u001b[1m27/27\u001b[0m \u001b[32m━━━━━━━━━━━━━━━━━━━━\u001b[0m\u001b[37m\u001b[0m \u001b[1m5s\u001b[0m 151ms/step - accuracy: 0.4398 - loss: 1.2495 - val_accuracy: 0.7887 - val_loss: 0.8096\n",
      "Epoch 2/15\n",
      "\u001b[1m27/27\u001b[0m \u001b[32m━━━━━━━━━━━━━━━━━━━━\u001b[0m\u001b[37m\u001b[0m \u001b[1m4s\u001b[0m 134ms/step - accuracy: 0.7070 - loss: 0.7190 - val_accuracy: 0.8216 - val_loss: 0.5183\n",
      "Epoch 3/15\n",
      "\u001b[1m27/27\u001b[0m \u001b[32m━━━━━━━━━━━━━━━━━━━━\u001b[0m\u001b[37m\u001b[0m \u001b[1m4s\u001b[0m 130ms/step - accuracy: 0.7977 - loss: 0.5948 - val_accuracy: 0.6338 - val_loss: 1.0376\n",
      "Epoch 4/15\n",
      "\u001b[1m27/27\u001b[0m \u001b[32m━━━━━━━━━━━━━━━━━━━━\u001b[0m\u001b[37m\u001b[0m \u001b[1m4s\u001b[0m 134ms/step - accuracy: 0.7901 - loss: 0.5523 - val_accuracy: 0.7418 - val_loss: 0.6882\n",
      "Epoch 5/15\n",
      "\u001b[1m27/27\u001b[0m \u001b[32m━━━━━━━━━━━━━━━━━━━━\u001b[0m\u001b[37m\u001b[0m \u001b[1m4s\u001b[0m 133ms/step - accuracy: 0.8053 - loss: 0.4745 - val_accuracy: 0.7793 - val_loss: 0.5081\n",
      "Epoch 6/15\n",
      "\u001b[1m27/27\u001b[0m \u001b[32m━━━━━━━━━━━━━━━━━━━━\u001b[0m\u001b[37m\u001b[0m \u001b[1m4s\u001b[0m 134ms/step - accuracy: 0.8622 - loss: 0.4313 - val_accuracy: 0.8122 - val_loss: 0.5496\n",
      "Epoch 7/15\n",
      "\u001b[1m27/27\u001b[0m \u001b[32m━━━━━━━━━━━━━━━━━━━━\u001b[0m\u001b[37m\u001b[0m \u001b[1m4s\u001b[0m 135ms/step - accuracy: 0.8404 - loss: 0.4328 - val_accuracy: 0.8310 - val_loss: 0.4622\n",
      "Epoch 8/15\n",
      "\u001b[1m27/27\u001b[0m \u001b[32m━━━━━━━━━━━━━━━━━━━━\u001b[0m\u001b[37m\u001b[0m \u001b[1m4s\u001b[0m 131ms/step - accuracy: 0.8624 - loss: 0.3875 - val_accuracy: 0.7700 - val_loss: 0.5667\n",
      "Epoch 9/15\n",
      "\u001b[1m27/27\u001b[0m \u001b[32m━━━━━━━━━━━━━━━━━━━━\u001b[0m\u001b[37m\u001b[0m \u001b[1m4s\u001b[0m 129ms/step - accuracy: 0.8968 - loss: 0.3346 - val_accuracy: 0.8263 - val_loss: 0.4495\n",
      "Epoch 10/15\n",
      "\u001b[1m27/27\u001b[0m \u001b[32m━━━━━━━━━━━━━━━━━━━━\u001b[0m\u001b[37m\u001b[0m \u001b[1m4s\u001b[0m 135ms/step - accuracy: 0.9047 - loss: 0.3194 - val_accuracy: 0.7746 - val_loss: 0.6518\n",
      "Epoch 11/15\n",
      "\u001b[1m27/27\u001b[0m \u001b[32m━━━━━━━━━━━━━━━━━━━━\u001b[0m\u001b[37m\u001b[0m \u001b[1m4s\u001b[0m 137ms/step - accuracy: 0.9026 - loss: 0.2764 - val_accuracy: 0.7840 - val_loss: 0.7336\n",
      "Epoch 12/15\n",
      "\u001b[1m27/27\u001b[0m \u001b[32m━━━━━━━━━━━━━━━━━━━━\u001b[0m\u001b[37m\u001b[0m \u001b[1m4s\u001b[0m 137ms/step - accuracy: 0.9177 - loss: 0.2588 - val_accuracy: 0.8075 - val_loss: 0.5007\n",
      "Epoch 13/15\n",
      "\u001b[1m27/27\u001b[0m \u001b[32m━━━━━━━━━━━━━━━━━━━━\u001b[0m\u001b[37m\u001b[0m \u001b[1m4s\u001b[0m 136ms/step - accuracy: 0.8754 - loss: 0.3527 - val_accuracy: 0.7840 - val_loss: 0.5256\n",
      "Epoch 14/15\n",
      "\u001b[1m27/27\u001b[0m \u001b[32m━━━━━━━━━━━━━━━━━━━━\u001b[0m\u001b[37m\u001b[0m \u001b[1m4s\u001b[0m 137ms/step - accuracy: 0.8892 - loss: 0.3271 - val_accuracy: 0.8404 - val_loss: 0.4603\n",
      "Epoch 15/15\n",
      "\u001b[1m27/27\u001b[0m \u001b[32m━━━━━━━━━━━━━━━━━━━━\u001b[0m\u001b[37m\u001b[0m \u001b[1m4s\u001b[0m 136ms/step - accuracy: 0.8855 - loss: 0.3076 - val_accuracy: 0.8169 - val_loss: 0.5267\n",
      "Final Training Accuracy: 0.8959\n",
      "Final Validation Accuracy: 0.8169\n"
     ]
    }
   ],
   "source": [
    "history = model.fit(\n",
    "    train_gen,\n",
    "    validation_data=val_gen,\n",
    "    epochs=15,\n",
    "    steps_per_epoch=len(train_gen),\n",
    "    validation_steps=len(val_gen)\n",
    ")\n",
    "\n",
    "train_accuracy = history.history['accuracy']\n",
    "val_accuracy = history.history['val_accuracy']\n",
    "\n",
    "# Print the final accuracy\n",
    "print(f\"Final Training Accuracy: {train_accuracy[-1]:.4f}\")\n",
    "print(f\"Final Validation Accuracy: {val_accuracy[-1]:.4f}\")\n"
   ]
  },
  {
   "cell_type": "code",
   "execution_count": null,
   "metadata": {},
   "outputs": [],
   "source": []
  }
 ],
 "metadata": {
  "kernelspec": {
   "display_name": "base",
   "language": "python",
   "name": "python3"
  },
  "language_info": {
   "codemirror_mode": {
    "name": "ipython",
    "version": 3
   },
   "file_extension": ".py",
   "mimetype": "text/x-python",
   "name": "python",
   "nbconvert_exporter": "python",
   "pygments_lexer": "ipython3",
   "version": "3.12.2"
  }
 },
 "nbformat": 4,
 "nbformat_minor": 2
}
